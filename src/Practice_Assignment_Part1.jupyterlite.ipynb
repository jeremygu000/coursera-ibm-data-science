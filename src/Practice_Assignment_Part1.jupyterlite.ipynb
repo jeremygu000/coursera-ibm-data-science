{
 "cells": [
  {
   "cell_type": "markdown",
   "id": "163c64ba-78e4-4a3d-abdc-1eea34d6ca6b",
   "metadata": {},
   "source": [
    "<p style=\"text-align:center\">\n",
    "    <a href=\"https://skills.network\" target=\"_blank\">\n",
    "    <img src=\"https://cf-courses-data.s3.us.cloud-object-storage.appdomain.cloud/assets/logos/SN_web_lightmode.png\" width=\"200\" alt=\"Skills Network Logo\">\n",
    "    </a>\n",
    "</p>\n"
   ]
  },
  {
   "cell_type": "markdown",
   "id": "41d0c0da-f3ca-49eb-8042-ebd70ba6b056",
   "metadata": {},
   "source": [
    "# **Practice Assignment - Part 1: Analyzing wildfire activities in Australia** \n",
    "\n",
    "Estimated time needed: **40** minutes\n"
   ]
  },
  {
   "cell_type": "markdown",
   "id": "0553dd01-a046-4806-b2a4-6698f1ef5458",
   "metadata": {},
   "source": [
    "# __Table of Contents__\n",
    "\n",
    "<ol>\n",
    "    <li><a href=\"#Objectives\">Objectives</a></li>\n",
    "    <li>\n",
    "        <a href=\"#Setup\">Setup</a>\n",
    "        <ol>\n",
    "            <li><a href=\"#Installing-Required-Libraries\">Installing Required Libraries</a></li>\n",
    "            <li><a href=\"#Importing-Required-Libraries\">Importing Required Libraries</a></li>\n",
    "    </li>\n",
    "    <li>\n",
    "        <a href=\"#Dataset\">Dataset</a>\n",
    "    </li>\n",
    "    <li><a href=\"#Importing Dataset\">Importing Dataset</a></li>\n",
    "    <li><a href=\"#Practice Tasks\">Practice Tasks</a></li>\n",
    "   \n"
   ]
  },
  {
   "cell_type": "markdown",
   "id": "e16053c2-8ba3-4701-a4f5-6e90b71f4ce6",
   "metadata": {},
   "source": [
    "---\n"
   ]
  },
  {
   "cell_type": "markdown",
   "id": "ea6f05aa-2bb1-45df-9056-3b8744ba047e",
   "metadata": {},
   "source": [
    "# Objectives\n",
    "\n",
    "After completing this lab you will be able to:\n",
    "\n",
    " - Use visualization libraries such as Matplotlib, Pandas, Seaborn and Folium to create informative plots and charts \n"
   ]
  },
  {
   "cell_type": "markdown",
   "id": "c3b27307-0fa4-44e2-b912-5d419a7c6be5",
   "metadata": {},
   "source": [
    "---\n"
   ]
  },
  {
   "cell_type": "markdown",
   "id": "96be56f4-32b7-47eb-9c59-cc26aeb9b9ae",
   "metadata": {},
   "source": [
    "# Setup\n"
   ]
  },
  {
   "cell_type": "markdown",
   "id": "ae46fc53-7293-415d-880a-2e39a935e082",
   "metadata": {},
   "source": [
    "For this lab, we will be using the following libraries:\n",
    "\n",
    "*   [`pandas`](https://pandas.pydata.org/?utm_medium=Exinfluencer&utm_source=Exinfluencer&utm_content=000026UJ&utm_term=10006555&utm_id=NA-SkillsNetwork-Channel-SkillsNetworkCoursesIBMML0187ENSkillsNetwork31430127-2021-01-01) for managing the data.\n",
    "*   [`numpy`](https://numpy.org/?utm_medium=Exinfluencer&utm_source=Exinfluencer&utm_content=000026UJ&utm_term=10006555&utm_id=NA-SkillsNetwork-Channel-SkillsNetworkCoursesIBMML0187ENSkillsNetwork31430127-2021-01-01) for mathematical operations.\n",
    "*   [`seaborn`](https://seaborn.pydata.org/?utm_medium=Exinfluencer&utm_source=Exinfluencer&utm_content=000026UJ&utm_term=10006555&utm_id=NA-SkillsNetwork-Channel-SkillsNetworkCoursesIBMML0187ENSkillsNetwork31430127-2021-01-01) for visualizing the data.\n",
    "*   [`matplotlib`](https://matplotlib.org/?utm_medium=Exinfluencer&utm_source=Exinfluencer&utm_content=000026UJ&utm_term=10006555&utm_id=NA-SkillsNetwork-Channel-SkillsNetworkCoursesIBMML0187ENSkillsNetwork31430127-2021-01-01) for additional plotting tools.\n"
   ]
  },
  {
   "cell_type": "markdown",
   "id": "e046afcb-3ac6-48ed-9f68-f69a59f944e8",
   "metadata": {},
   "source": [
    "### Installing Required Libraries\n",
    "\n",
    "The following required libraries are pre-installed in the Skills Network Labs environment. However, if you run this notebook commands in a different Jupyter environment (e.g. Watson Studio or Ananconda), you will need to install these libraries by removing the `#` sign before `%pip` in the code cell below.\n"
   ]
  },
  {
   "cell_type": "code",
   "execution_count": null,
   "id": "7e92c3e1-6e50-4c7d-9acd-0ffa386aac42",
   "metadata": {},
   "outputs": [],
   "source": [
    "# All Libraries required for this lab are listed below. The libraries pre-installed on Skills Network Labs are commented.\n",
    "#%pip install -qy pandas==1.3.4 numpy==1.21.4 seaborn==0.9.0 matplotlib==3.5.0 folium\n",
    "# Note: If your environment doesn't support \"%pip install\", use \"!mamba install\""
   ]
  },
  {
   "cell_type": "code",
   "execution_count": null,
   "id": "41a39670-f699-4b01-8ede-ea4b2a6797a8",
   "metadata": {},
   "outputs": [],
   "source": [
    "# %pip install seaborn\n",
    "# %pip install folium"
   ]
  },
  {
   "cell_type": "markdown",
   "id": "3e59a32d-7dda-4644-b4eb-20ed69436193",
   "metadata": {},
   "source": [
    "### Importing Required Libraries\n",
    "\n",
    "_We recommend you import all required libraries in one place (here):_\n"
   ]
  },
  {
   "cell_type": "code",
   "execution_count": 1,
   "id": "efba5fd8-04da-40be-977c-d9016a66f833",
   "metadata": {},
   "outputs": [],
   "source": [
    "import numpy as np\n",
    "import pandas as pd\n",
    "import matplotlib.pyplot as plt\n",
    "import seaborn as sns\n",
    "import folium\n",
    "%matplotlib inline"
   ]
  },
  {
   "cell_type": "markdown",
   "id": "bed25841-3189-43e1-81c9-c33f2df924ea",
   "metadata": {},
   "source": [
    "---\n"
   ]
  },
  {
   "cell_type": "markdown",
   "id": "6bd4cf30-3640-4464-bfc1-219fe4dcda53",
   "metadata": {},
   "source": [
    "# Dataset\n",
    "\n",
    "**Historical Wildfires**\n",
    "\n",
    "This wildfire dataset contains data on fire activities in Australia starting from 2005. Additional information can be found [here](https://earthdata.nasa.gov/earth-observation-data/near-real-time/firms/c6-mcd14dl).\n",
    "\n",
    "Variables\n",
    "\n",
    "- Region: the 7 regions\n",
    "- Date: in UTC and provide the data for 24 hours ahead\n",
    "- Estimated_fire_area: daily sum of estimated fire area for presumed vegetation fires with a confidence > 75% for a each region in km2\n",
    "- Mean_estimated_fire_brightness: daily mean (by flagged fire pixels(=count)) of estimated fire brightness for presumed vegetation fires with a confidence level > 75% in Kelvin\n",
    "- Mean_estimated_fire_radiative_power: daily mean of estimated radiative power for presumed vegetation fires with a confidence level > 75% for a given region in megawatts\n",
    "- Mean_confidence: daily mean of confidence for presumed vegetation fires with a confidence level > 75%\n",
    "- Std_confidence: standard deviation of estimated fire radiative power in megawatts\n",
    "- Var_confidence: Variance of estimated fire radiative power in megawatts\n",
    "- Count: daily numbers of pixels for presumed vegetation fires with a confidence level of larger than 75% for a given region\n",
    "- Replaced: Indicates with an Y whether the data has been replaced with standard quality data when they are available (usually with a 2-3 month lag). Replaced data has a slightly higher quality in terms of locations\n"
   ]
  },
  {
   "cell_type": "markdown",
   "id": "9cc721d6-ad94-49f1-8d36-35470dd97677",
   "metadata": {},
   "source": [
    "---\n"
   ]
  },
  {
   "cell_type": "markdown",
   "id": "92135593-6490-4a73-ae49-6ac9c2b0e1ab",
   "metadata": {},
   "source": [
    "### Importing Data\n"
   ]
  },
  {
   "cell_type": "code",
   "execution_count": 4,
   "id": "891f39b1-900b-41fc-86b8-f954416e9be4",
   "metadata": {},
   "outputs": [
    {
     "name": "stdout",
     "output_type": "stream",
     "text": [
      "Data read into a pandas dataframe!\n",
      "  Region      Date  Estimated_fire_area  Mean_estimated_fire_brightness  \\\n",
      "0    NSW  1/4/2005              8.68000                      312.266667   \n",
      "1    NSW  1/5/2005             16.61125                      322.475000   \n",
      "2    NSW  1/6/2005              5.52000                      325.266667   \n",
      "3    NSW  1/7/2005              6.26400                      313.870000   \n",
      "4    NSW  1/8/2005              5.40000                      337.383333   \n",
      "\n",
      "   Mean_estimated_fire_radiative_power  Mean_confidence  Std_confidence  \\\n",
      "0                            42.400000        78.666667        2.886751   \n",
      "1                            62.362500        85.500000        8.088793   \n",
      "2                            38.400000        78.333333        3.214550   \n",
      "3                            33.800000        92.200000        7.529940   \n",
      "4                           122.533333        91.000000        7.937254   \n",
      "\n",
      "   Var_confidence  Count Replaced  \n",
      "0        8.333333      3        R  \n",
      "1       65.428571      8        R  \n",
      "2       10.333333      3        R  \n",
      "3       56.700000      5        R  \n",
      "4       63.000000      3        R  \n"
     ]
    }
   ],
   "source": [
    "import httpx\n",
    "import pandas as pd\n",
    "import io\n",
    "\n",
    "URL = \"https://cf-courses-data.s3.us.cloud-object-storage.appdomain.cloud/IBMDeveloperSkillsNetwork-DV0101EN-SkillsNetwork/Data%20Files/Historical_Wildfires.csv\"\n",
    "\n",
    "# 使用 httpx 发请求\n",
    "with httpx.Client() as client:\n",
    "    resp = client.get(URL)\n",
    "    resp.raise_for_status()  # 如果请求失败会抛异常\n",
    "    df = pd.read_csv(io.BytesIO(resp.content))\n",
    "\n",
    "print('Data read into a pandas dataframe!')\n",
    "print(df.head())"
   ]
  },
  {
   "cell_type": "markdown",
   "id": "29ebf608-93ac-48ef-bfc5-08b0c5458e88",
   "metadata": {},
   "source": [
    "Let's look at some samples rows from the dataset we loaded:\n"
   ]
  },
  {
   "cell_type": "code",
   "execution_count": null,
   "id": "b5826791-af71-469f-a6e8-596410dea561",
   "metadata": {},
   "outputs": [],
   "source": [
    "df.head()"
   ]
  },
  {
   "cell_type": "markdown",
   "id": "4cdafa49-13fe-4d89-ae32-d2a9684f3cb3",
   "metadata": {},
   "source": [
    "---\n"
   ]
  },
  {
   "cell_type": "markdown",
   "id": "be9a8b12-ee23-4bd2-ac7f-de9797cb38a0",
   "metadata": {},
   "source": [
    "Let's verify the column names and the data type of each variable\n"
   ]
  },
  {
   "cell_type": "code",
   "execution_count": 5,
   "id": "1928c867-3529-4576-a7d1-723fe3decf82",
   "metadata": {},
   "outputs": [
    {
     "data": {
      "text/plain": [
       "Index(['Region', 'Date', 'Estimated_fire_area',\n",
       "       'Mean_estimated_fire_brightness', 'Mean_estimated_fire_radiative_power',\n",
       "       'Mean_confidence', 'Std_confidence', 'Var_confidence', 'Count',\n",
       "       'Replaced'],\n",
       "      dtype='object')"
      ]
     },
     "execution_count": 5,
     "metadata": {},
     "output_type": "execute_result"
    }
   ],
   "source": [
    "#Column names\n",
    "df.columns"
   ]
  },
  {
   "cell_type": "code",
   "execution_count": 6,
   "id": "0825b903-f603-4022-b1d7-02dfcc3f9d58",
   "metadata": {},
   "outputs": [
    {
     "data": {
      "text/plain": [
       "Region                                  object\n",
       "Date                                    object\n",
       "Estimated_fire_area                    float64\n",
       "Mean_estimated_fire_brightness         float64\n",
       "Mean_estimated_fire_radiative_power    float64\n",
       "Mean_confidence                        float64\n",
       "Std_confidence                         float64\n",
       "Var_confidence                         float64\n",
       "Count                                    int64\n",
       "Replaced                                object\n",
       "dtype: object"
      ]
     },
     "execution_count": 6,
     "metadata": {},
     "output_type": "execute_result"
    }
   ],
   "source": [
    "#data type\n",
    "df.dtypes"
   ]
  },
  {
   "cell_type": "markdown",
   "id": "43992ba5-a9ac-4f26-8a2f-ac1fff6c3314",
   "metadata": {},
   "source": [
    "Notice the type of 'Date' is object, let's convert it to 'datatime' type and also let's extract 'Year' and 'Month' from date and include in the dataframe as separate columns\n"
   ]
  },
  {
   "cell_type": "code",
   "execution_count": 7,
   "id": "8774d024-fedc-4acf-a80b-388b8b651036",
   "metadata": {},
   "outputs": [],
   "source": [
    "import datetime as dt\n",
    "\n",
    "df['Year'] = pd.to_datetime(df['Date']).dt.year\n",
    "df['Month'] = pd.to_datetime(df['Date']).dt.month\n"
   ]
  },
  {
   "cell_type": "markdown",
   "id": "41ed19e7-567c-438f-9434-69e6dd7049e1",
   "metadata": {},
   "source": [
    "**Verify the columns again**\n"
   ]
  },
  {
   "cell_type": "code",
   "execution_count": 8,
   "id": "021719e7-ccb3-43da-b634-1b9be607e3f6",
   "metadata": {},
   "outputs": [
    {
     "data": {
      "text/plain": [
       "Index(['Region', 'Date', 'Estimated_fire_area',\n",
       "       'Mean_estimated_fire_brightness', 'Mean_estimated_fire_radiative_power',\n",
       "       'Mean_confidence', 'Std_confidence', 'Var_confidence', 'Count',\n",
       "       'Replaced', 'Year', 'Month'],\n",
       "      dtype='object')"
      ]
     },
     "execution_count": 8,
     "metadata": {},
     "output_type": "execute_result"
    }
   ],
   "source": [
    "#verify the columns again\n",
    "df.columns"
   ]
  },
  {
   "cell_type": "markdown",
   "id": "ac7473da-a89c-4cc1-a140-3ed3922a5768",
   "metadata": {},
   "source": [
    "<details>\n",
    "    <summary>Click here for Solution</summary>\n",
    "\n",
    "```python\n",
    "    df.dtypes\n",
    "```\n",
    "\n",
    "</details>\n"
   ]
  },
  {
   "cell_type": "markdown",
   "id": "91a98503-d158-4322-a9e7-b6265b5ebb1a",
   "metadata": {},
   "source": [
    "---\n"
   ]
  },
  {
   "cell_type": "markdown",
   "id": "b86ce671-641d-48d4-a3ba-8cc0270a5f5f",
   "metadata": {},
   "source": [
    "## Practice Tasks\n"
   ]
  },
  {
   "cell_type": "markdown",
   "id": "9be08a62-f500-493c-a1a7-8ebae72af4a1",
   "metadata": {},
   "source": [
    "### TASK 1.1: Let's try to understand the change in average estimated fire area over time <br>(use pandas to plot)\n"
   ]
  },
  {
   "cell_type": "markdown",
   "id": "93989567-bf24-4ef5-bea2-970377f16fa1",
   "metadata": {},
   "source": [
    "<details>\n",
    "    <summary>Click here for a Hint</summary>\n",
    "You will be required to group the year for 'Estimated_fire_area' (taking its mean)<br>Then use df.plot() on it to create a line graph\n",
    "\n",
    "</details>\n"
   ]
  },
  {
   "cell_type": "code",
   "execution_count": 13,
   "id": "a9d0d2cb-1852-46ea-93bf-37ec7ddcf21a",
   "metadata": {},
   "outputs": [
    {
     "data": {
      "image/png": "[encoded data removed]",
      "text/plain": [
       "<Figure size 640x480 with 1 Axes>"
      ]
     },
     "metadata": {},
     "output_type": "display_data"
    }
   ],
   "source": [
    "  # Grouping the data by 'Year' and calculating the mean of 'Estimated_fire_area'\n",
    "df_new = df.groupby('Year')['Estimated_fire_area'].mean() # returns a Series, index is \"Year\", values are the mean of 'Estimated_fire_area'\n",
    "df_new.head() \n",
    "\n",
    "# Plotting the data\n",
    "df_new.plot(x=df_new.index, y=df_new.values)\n",
    "plt.xlabel('Year')\n",
    "plt.ylabel('Average Estimated Fire Area (km²)')\n",
    "plt.title('Estimated Fire Area over Time')\n",
    "plt.show()"
   ]
  },
  {
   "cell_type": "markdown",
   "id": "0a5450c0-1836-4962-b3f6-961c6b260cb5",
   "metadata": {},
   "source": [
    "<details>\n",
    "    <summary>Click here for Solution</summary>\n",
    "\n",
    "```python\n",
    "    plt.figure(figsize=(12, 6))\n",
    "    # Grouping the data by 'Year' and calculating the mean of 'Estimated_fire_area'\n",
    "    df_new = df.groupby('Year')['Estimated_fire_area'].mean()\n",
    "    # Plotting the data\n",
    "    df_new.plot(x=df_new.index, y=df_new.values)\n",
    "    plt.xlabel('Year')\n",
    "    plt.ylabel('Average Estimated Fire Area (km²)')\n",
    "    plt.title('Estimated Fire Area over Time')\n",
    "    plt.show()\n",
    "```\n",
    "\n",
    "</details>\n"
   ]
  },
  {
   "cell_type": "markdown",
   "id": "69fe09e8-4c5b-4b0c-b420-ed24a2959443",
   "metadata": {},
   "source": [
    "---\n"
   ]
  },
  {
   "cell_type": "markdown",
   "id": "5c79ee23-c31e-4f6d-955d-7c835a425ad7",
   "metadata": {},
   "source": [
    "### TASK 1.2: You can notice the peak in the plot between 2010 to 2013. Let's narrow down our finding, by plotting the estimated fire area for year grouped together with month.\n"
   ]
  },
  {
   "cell_type": "markdown",
   "id": "7d180a47-4571-4567-8c9a-7d7e9e2da8e6",
   "metadata": {},
   "source": [
    "<details>\n",
    "    <summary>Click here for a Hint</summary>\n",
    "You will be required to group the year and month for 'Estimated_fire_area' (taking its mean)<br>Then use df.plot() on it to create a line graph\n",
    "\n",
    "</details>\n"
   ]
  },
  {
   "cell_type": "code",
   "execution_count": 16,
   "id": "f822669a-15d8-4eee-89d3-24ee17e7c8d2",
   "metadata": {},
   "outputs": [
    {
     "data": {
      "image/png": "[encoded data removed]",
      "text/plain": [
       "<Figure size 640x480 with 1 Axes>"
      ]
     },
     "metadata": {},
     "output_type": "display_data"
    }
   ],
   "source": [
    "df_new = df.groupby(['Year','Month'])['Estimated_fire_area'].mean() # 结果依然是一个 Series，只是它的 index 变成了一个 MultiIndex（两级索引：Year、Month）\n",
    "df_new.head()\n",
    "\n",
    "df_new.plot(x=df_new.index, y=df_new.values)\n",
    "plt.xlabel('Year, Month')\n",
    "plt.ylabel('Average Estimated Fire Area (km²)')\n",
    "plt.title('Estimated Fire Area over Time')\n",
    "plt.show()"
   ]
  },
  {
   "cell_type": "markdown",
   "id": "c61660f4-ed4b-4d99-86e4-2eec5616884b",
   "metadata": {},
   "source": [
    "<details>\n",
    "    <summary>Click here for Solution</summary>\n",
    "\n",
    "```python\n",
    "    # Grouping the data by both 'Year' and 'Month', and calculating the mean of 'Estimated_fire_area'\n",
    "    df_new = df.groupby(['Year','Month'])['Estimated_fire_area'].mean()\n",
    "    # Plotting the data\n",
    "    df_new.plot(x=df_new.index, y=df_new.values)\n",
    "    plt.xlabel('Year, Month')\n",
    "    plt.ylabel('Average Estimated Fire Area (km²)')\n",
    "    plt.title('Estimated Fire Area over Time')\n",
    "    plt.show()\n",
    "```\n",
    "\n",
    "</details>\n"
   ]
  },
  {
   "cell_type": "markdown",
   "id": "959326b6-ee75-4aaf-9b43-a7bf7918b5c6",
   "metadata": {},
   "source": [
    "This plot represents that the estimated fire area was on its peak after 2011, April and before 2012. You can verify on google/news, this was the time of maximum wildfire hit in Austrailia\n"
   ]
  },
  {
   "cell_type": "markdown",
   "id": "a9b21de1-187d-42c7-8fc0-608f1932f80a",
   "metadata": {},
   "source": [
    "---\n"
   ]
  },
  {
   "cell_type": "markdown",
   "id": "7f25d2a9-5cf9-4b7d-a065-e4dba49aa197",
   "metadata": {},
   "source": [
    "### TASK 1.3: Let's have an insight on the distribution of mean estimated fire brightness across the regions<br> use the functionality of seaborn to develop a barplot\n"
   ]
  },
  {
   "cell_type": "markdown",
   "id": "5a23602b-48d5-4a1f-a4a4-46467c93b56e",
   "metadata": {},
   "source": [
    "before starting with the plot, why not know the regions mentioned in the dataset?. <br>Make use of unique() to identify the regions in the dataset (apply it on series only)\n"
   ]
  },
  {
   "cell_type": "code",
   "execution_count": 17,
   "id": "5ebc37c9-98da-4780-883a-648b8896cfab",
   "metadata": {},
   "outputs": [
    {
     "data": {
      "text/plain": [
       "array(['NSW', 'NT', 'QL', 'SA', 'TA', 'VI', 'WA'], dtype=object)"
      ]
     },
     "execution_count": 17,
     "metadata": {},
     "output_type": "execute_result"
    }
   ],
   "source": [
    "df['Region'].unique()"
   ]
  },
  {
   "cell_type": "markdown",
   "id": "1eecee55-5d7a-48e7-8cdb-d17f3700eaad",
   "metadata": {},
   "source": [
    "<details>\n",
    "    <summary>Click here for a Hint</summary>\n",
    "you need to plot reions on x-axis and the 'Mean_estimated_fire_brightness' on y-axis.<br>Title it as 'Distribution of Mean Estimated Fire Brightness across Regions'\n",
    "</details>\n"
   ]
  },
  {
   "cell_type": "code",
   "execution_count": 22,
   "id": "8902cb02-5a3e-4321-a002-7c07366000f1",
   "metadata": {},
   "outputs": [
    {
     "data": {
      "image/png": "[encoded data removed]",
      "text/plain": [
       "<Figure size 640x480 with 1 Axes>"
      ]
     },
     "metadata": {},
     "output_type": "display_data"
    }
   ],
   "source": [
    "sns.barplot(data=df, x='Region', y='Mean_estimated_fire_brightness')\n",
    "plt.xlabel('Region')\n",
    "plt.ylabel('Mean Estimated Fire Brightness (Kelvin)')\n",
    "plt.title('Distribution of Mean Estimated Fire Brightness across Regions')\n",
    "plt.show()"
   ]
  },
  {
   "cell_type": "markdown",
   "id": "b0b1d518-7fdc-4879-978e-707976ebf84e",
   "metadata": {},
   "source": [
    "<details>\n",
    "    <summary>Click here for Solution</summary>\n",
    "\n",
    "```python\n",
    "# Creating a bar plot using seaborn to visualize the distribution of mean estimated fire brightness across regions\n",
    "plt.figure(figsize=(10, 6))\n",
    "# Using seaborn's barplot function to create the plot\n",
    "sns.barplot(data=df, x='Region', y='Mean_estimated_fire_brightness')\n",
    "plt.xlabel('Region')\n",
    "plt.ylabel('Mean Estimated Fire Brightness (Kelvin)')\n",
    "plt.title('Distribution of Mean Estimated Fire Brightness across Regions')\n",
    "plt.show()\n",
    "```\n",
    "</details>\n"
   ]
  },
  {
   "cell_type": "markdown",
   "id": "d5ff2595-7abe-4f41-9ff8-60330fef8852",
   "metadata": {},
   "source": [
    "---\n"
   ]
  },
  {
   "cell_type": "markdown",
   "id": "57f9c885-86a8-4db7-987e-3f05cf5aa47f",
   "metadata": {},
   "source": [
    "### TASK 1.4: Let's find the portion of count of pixels for presumed vegetation fires vary across regions<br> we will develop a pie chart for this\n"
   ]
  },
  {
   "cell_type": "markdown",
   "id": "919c8d62-f98a-46c4-89a6-ee7e9f56d250",
   "metadata": {},
   "source": [
    "<details>\n",
    "    <summary>Click here for a Hint</summary>\n",
    "First you will  be required to group the data on region and find the sum of count\n",
    "</details>\n"
   ]
  },
  {
   "cell_type": "code",
   "execution_count": 23,
   "id": "bd5267aa-a789-413a-9dff-ba992ba0a34c",
   "metadata": {},
   "outputs": [
    {
     "data": {
      "image/png": "[encoded data removed]",
      "text/plain": [
       "<Figure size 640x480 with 1 Axes>"
      ]
     },
     "metadata": {},
     "output_type": "display_data"
    }
   ],
   "source": [
    "# Grouping the data by region and summing the counts\n",
    "region_counts = df.groupby('Region')['Count'].sum()\n",
    "# Creating the pie chart using plt.pie function\n",
    "# Labels are set to the region names, and autopct is used to display percentage\n",
    "plt.pie(region_counts, labels=region_counts.index, autopct='%1.1f%%')\n",
    "plt.title('Percentage of Pixels for Presumed Vegetation Fires by Region')\n",
    "plt.axis('equal')\n",
    "plt.show()"
   ]
  },
  {
   "cell_type": "markdown",
   "id": "55dcd33d-d59a-40fc-b0c6-bb5586939f6b",
   "metadata": {},
   "source": [
    "<details>\n",
    "    <summary>Click here for Solution</summary>\n",
    "\n",
    "```python\n",
    "# Creating a pie chart to visualize the portion of count of pixels for presumed vegetation fires across regions\n",
    "plt.figure(figsize=(10, 6))\n",
    "# Grouping the data by region and summing the counts\n",
    "region_counts = df.groupby('Region')['Count'].sum()\n",
    "# Creating the pie chart using plt.pie function\n",
    "# Labels are set to the region names, and autopct is used to display percentage\n",
    "plt.pie(region_counts, labels=region_counts.index, autopct='%1.1f%%')\n",
    "plt.title('Percentage of Pixels for Presumed Vegetation Fires by Region')\n",
    "plt.axis('equal')\n",
    "plt.show()\n",
    "```\n",
    "</details>\n"
   ]
  },
  {
   "cell_type": "markdown",
   "id": "502ced57-a1c9-4d6e-a7af-f8eaa86757dd",
   "metadata": {},
   "source": [
    "### TASK 1.5: See the percentage on the pie is not looking so good as it is overlaped for Region SA, TA, VI \n",
    "\n",
    "remove the autopct from pie function and pass the following to plt.legend() after plt.title() <br>\n",
    "`[(i,round(k/region_counts.sum()*100,2)) for i,k in zip(region_counts.index, region_counts)]`\n"
   ]
  },
  {
   "cell_type": "code",
   "execution_count": null,
   "id": "fade4303-0efe-4ef4-96f7-014da8a0453b",
   "metadata": {},
   "outputs": [],
   "source": [
    "#TODO"
   ]
  },
  {
   "cell_type": "markdown",
   "id": "150ae8e9-0547-415a-ad7e-9416ac9797f6",
   "metadata": {},
   "source": [
    "---\n"
   ]
  },
  {
   "cell_type": "markdown",
   "id": "6b8d438e-bedf-47f4-8583-0c3a5a7817dd",
   "metadata": {},
   "source": [
    "### TASK 1.6: Let's try to develop a histogram of the mean estimated fire brightness<br> Using Matplotlib to create the histogram\n"
   ]
  },
  {
   "cell_type": "markdown",
   "id": "d75c1d17-ce5b-4d56-b8e9-2f049f864d20",
   "metadata": {},
   "source": [
    "<details>\n",
    "    <summary>Click here for a Hint</summary>\n",
    "    Call plt.hist() and pass df['Mean_estimated_fire_brightness'] as x\n",
    "</details>\n"
   ]
  },
  {
   "cell_type": "code",
   "execution_count": null,
   "id": "f65fc7a3-1859-460d-8719-d3b1f97c83ca",
   "metadata": {},
   "outputs": [],
   "source": [
    "#TODO"
   ]
  },
  {
   "cell_type": "markdown",
   "id": "160e870d-2f56-4258-92ef-70c01038b05c",
   "metadata": {},
   "source": [
    "<details>\n",
    "    <summary>Click here for Solution</summary>\n",
    "\n",
    "```python\n",
    "# Creating a histogram to visualize the distribution of mean estimated fire brightness\n",
    "plt.figure(figsize=(10, 6))\n",
    "# Using plt.hist to create the histogram\n",
    "# Setting the number of bins to 20 for better visualization\n",
    "plt.hist(x=df['Mean_estimated_fire_brightness'], bins=20)\n",
    "plt.xlabel('Mean Estimated Fire Brightness (Kelvin)')\n",
    "plt.ylabel('Count')\n",
    "plt.title('Histogram of Mean Estimated Fire Brightness')\n",
    "plt.show()\n",
    "```\n",
    "</details>\n"
   ]
  },
  {
   "cell_type": "markdown",
   "id": "5064fed5-f62e-44a1-858d-4edc879df7cc",
   "metadata": {},
   "source": [
    "### TASK 1.7: What if we need to understand the distribution of estimated fire brightness across regions? Let's use the functionality of seaborn and  pass region as hue\n"
   ]
  },
  {
   "cell_type": "code",
   "execution_count": null,
   "id": "8caa14d8-25d8-4408-ab03-3c1f65334e75",
   "metadata": {},
   "outputs": [],
   "source": []
  },
  {
   "cell_type": "markdown",
   "id": "99947576-7b25-4e6e-a0e4-d89fe0404a88",
   "metadata": {},
   "source": [
    "<details>\n",
    "    <summary>Click here for Solution</summary>\n",
    "\n",
    "```python\n",
    "# Creating a histogram to visualize the distribution of mean estimated fire brightness across regions using Seaborn\n",
    "# Using sns.histplot to create the histogram\n",
    "# Specifying the DataFrame (data=df) and the column for the x-axis (x='Mean_estimated_fire_brightness')\n",
    "# Adding hue='Region' to differentiate the distribution across regions\n",
    "sns.histplot(data=df, x='Mean_estimated_fire_brightness', hue='Region')\n",
    "plt.show()\n",
    "```\n",
    "</details>\n"
   ]
  },
  {
   "cell_type": "markdown",
   "id": "3abbfedb-bb01-4a00-8513-be6352395d9e",
   "metadata": {},
   "source": [
    "### looks better!, now include the parameter `multiple='stack'` in the histplot() and see the difference. Include labels and titles as well\n"
   ]
  },
  {
   "cell_type": "code",
   "execution_count": null,
   "id": "1d5fddf3-2870-4c7b-8018-9c34a919f7a6",
   "metadata": {},
   "outputs": [],
   "source": []
  },
  {
   "cell_type": "markdown",
   "id": "1781cc78-d493-4745-adcf-63930ebe6547",
   "metadata": {},
   "source": [
    "<details>\n",
    "    <summary>Click here for Solution</summary>\n",
    "\n",
    "```python\n",
    "# Creating a stacked histogram to visualize the distribution of mean estimated fire brightness across regions using Seaborn\n",
    "# Using sns.histplot to create the stacked histogram\n",
    "# Specifying the DataFrame (data=df) and the column for the x-axis (x='Mean_estimated_fire_brightness')\n",
    "# Adding hue='Region' to differentiate the distribution across regions\n",
    "# Setting multiple='stack' to stack the histograms for different regions\n",
    "sns.histplot(data=df, x='Mean_estimated_fire_brightness', hue='Region', multiple='stack')\n",
    "plt.show()\n",
    "```\n",
    "</details>\n"
   ]
  },
  {
   "cell_type": "markdown",
   "id": "9f6a6a99-dff5-4eb4-8adc-629d9bc9b909",
   "metadata": {},
   "source": [
    "---\n"
   ]
  },
  {
   "cell_type": "markdown",
   "id": "45b4a652-06b7-4d80-b6fa-6d98c4eee7e4",
   "metadata": {},
   "source": [
    "### TASK 1.8: Let's try to find if there is any correlation between mean estimated fire radiative power and mean confidence level?\n"
   ]
  },
  {
   "cell_type": "markdown",
   "id": "7611f043-cd78-40f5-9813-e2c9508f0b0b",
   "metadata": {},
   "source": [
    "<details>\n",
    "    <summary>Click here for a Hint</summary>\n",
    "    Call plt.scatter() <br> or use the sns.scatterplot()\n",
    "</details>\n"
   ]
  },
  {
   "cell_type": "code",
   "execution_count": null,
   "id": "b75efbe1-eb3f-4fa1-94cd-fe5e340d1082",
   "metadata": {},
   "outputs": [],
   "source": []
  },
  {
   "cell_type": "markdown",
   "id": "40f79455-0cca-4df8-b9d0-99fba9110248",
   "metadata": {},
   "source": [
    "<details>\n",
    "    <summary>Click here for Solution</summary>\n",
    "\n",
    "```python\n",
    "    # Creating a scatter plot to visualize the relationship between mean estimated fire radiative power and mean  confidence using Seaborn\n",
    "    plt.figure(figsize=(8, 6))\n",
    "    # Using sns.scatterplot to create the scatter plot\n",
    "    # Specifying the DataFrame (data=df) and the columns for the x-axis (x='Mean_confidence') and y-axis            (y='Mean_estimated_fire_radiative_power')\n",
    "    sns.scatterplot(data=df, x='Mean_confidence', y='Mean_estimated_fire_radiative_power')\n",
    "    plt.xlabel('Mean Estimated Fire Radiative Power (MW)')\n",
    "    plt.ylabel('Mean Confidence')\n",
    "    plt.title('Mean Estimated Fire Radiative Power vs. Mean Confidence')\n",
    "    plt.show()\n",
    "```\n",
    "</details>\n"
   ]
  },
  {
   "cell_type": "markdown",
   "id": "ac23a0a7-dacb-408a-ba67-958f739c55bc",
   "metadata": {},
   "source": [
    "---\n"
   ]
  },
  {
   "cell_type": "markdown",
   "id": "a6daba94-317e-4d85-a661-ade730a02788",
   "metadata": {},
   "source": [
    "### TASK 1.9: Let's mark these seven regions on the Map of Australia using Folium\n",
    "<br> we have created a dataframe for you containing the regions, their latitudes and longitudes. <br> For australia use [-25, 135] as location to create the map\n"
   ]
  },
  {
   "cell_type": "code",
   "execution_count": null,
   "id": "5c334edf-2ec9-4bf8-ba3f-be6ddd45f942",
   "metadata": {},
   "outputs": [],
   "source": [
    "region_data = {'region':['NSW','QL','SA','TA','VI','WA','NT'], 'Lat':[-31.8759835,-22.1646782,-30.5343665,-42.035067,-36.5986096,-25.2303005,-19.491411], \n",
    "               'Lon':[147.2869493,144.5844903,135.6301212,146.6366887,144.6780052,121.0187246,132.550964]}\n",
    "reg=pd.DataFrame(region_data)\n",
    "reg"
   ]
  },
  {
   "cell_type": "code",
   "execution_count": null,
   "id": "c7522a14-ecfa-4c86-baec-02aec264f342",
   "metadata": {},
   "outputs": [],
   "source": []
  },
  {
   "cell_type": "markdown",
   "id": "cebf6d46-f2af-4012-9dde-34b46f4c2bc6",
   "metadata": {},
   "source": [
    "<details>\n",
    "    <summary>Click here for Solution</summary>\n",
    "\n",
    "```python\n",
    "# instantiate a feature group \n",
    "aus_reg = folium.map.FeatureGroup()\n",
    "\n",
    "# Create a Folium map centered on Australia\n",
    "Aus_map = folium.Map(location=[-25, 135], zoom_start=4)\n",
    "\n",
    "# loop through the region and add to feature group\n",
    "for lat, lng, lab in zip(reg.Lat, reg.Lon, reg.region):\n",
    "    aus_reg.add_child(\n",
    "        folium.features.CircleMarker(\n",
    "            [lat, lng],\n",
    "            popup=lab,\n",
    "            radius=5, # define how big you want the circle markers to be\n",
    "            color='red',\n",
    "            fill=True,\n",
    "            fill_color='blue',\n",
    "            fill_opacity=0.6\n",
    "        )\n",
    "    )\n",
    "\n",
    "# add incidents to map\n",
    "Aus_map.add_child(aus_reg)\n",
    "```\n",
    "</details>\n"
   ]
  },
  {
   "cell_type": "markdown",
   "id": "7159eef0-6d1e-4631-9785-a14cda827f49",
   "metadata": {},
   "source": [
    "---\n"
   ]
  },
  {
   "cell_type": "markdown",
   "id": "32074072-b247-4861-a368-bd93e99a0d3b",
   "metadata": {},
   "source": [
    "# Congratulations! You have completed the lab\n"
   ]
  },
  {
   "cell_type": "markdown",
   "id": "cd9c5b63-60c8-4f84-a966-29f9d8c650f0",
   "metadata": {},
   "source": [
    "## Authors\n"
   ]
  },
  {
   "cell_type": "markdown",
   "id": "856500d7-65f4-47eb-89d0-82106d214a1f",
   "metadata": {},
   "source": [
    "[Dr. Pooja](author_link)\n"
   ]
  },
  {
   "cell_type": "markdown",
   "id": "89277c02-8360-4602-bfec-a40e4699b5c4",
   "metadata": {},
   "source": [
    "#### Copyright © 2023 IBM Corporation. All rights reserved.\n",
    "```{toggle}## Change Log\n",
    "```\n"
   ]
  },
  {
   "cell_type": "markdown",
   "id": "66a1059b-d5ed-4ee0-9a68-862cf32bef17",
   "metadata": {},
   "source": [
    "```{toggle}|Date (YYYY-MM-DD)|Version|Changed By|Change Description|\n",
    "```\n",
    "\n",
    "```{toggle}|-|-|-|-|\n",
    "```\n",
    "```{toggle}|2023-06-281|0.2|Dr. Pooja|Initial Lab Creation|\n",
    "```\n",
    "```{toggle}|2023-05-01|0.1|Shengkai|Create Lab Template|\n",
    "```\n"
   ]
  },
  {
   "cell_type": "markdown",
   "id": "d063a113-6a0c-4251-bde0-a25b2ff21bc3",
   "metadata": {},
   "source": [
    "\n"
   ]
  }
 ],
 "metadata": {
  "kernelspec": {
   "display_name": "coursera-ibm-data-science-py3.12",
   "language": "python",
   "name": "python3"
  },
  "language_info": {
   "codemirror_mode": {
    "name": "ipython",
    "version": 3
   },
   "file_extension": ".py",
   "mimetype": "text/x-python",
   "name": "python",
   "nbconvert_exporter": "python",
   "pygments_lexer": "ipython3",
   "version": "3.12.9"
  },
  "prev_pub_hash": "ed54aa07488322e14b439ab64b96c196786b9bbca2b35ebb2253a506270de5a1"
 },
 "nbformat": 4,
 "nbformat_minor": 4
}
